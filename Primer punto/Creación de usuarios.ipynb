{
 "cells": [
  {
   "cell_type": "markdown",
   "id": "4c9a712b",
   "metadata": {},
   "source": [
    "<h1><b><u>Creación de usuarios"
   ]
  },
  {
   "cell_type": "markdown",
   "id": "60c178ab",
   "metadata": {},
   "source": [
    "Se pide crear diez usuarios con nombre \"userXX\" donde XX sea correlativo al número de usuario (user01, user02, etc.)\n",
    "\n",
    "También se pide que tengan contraseña y que además expire pasado un año."
   ]
  },
  {
   "cell_type": "markdown",
   "id": "78682060",
   "metadata": {},
   "source": [
    "<h3><b>Creación de usuario"
   ]
  },
  {
   "cell_type": "markdown",
   "id": "8b2351ec",
   "metadata": {},
   "source": [
    "Usando el comando en terminal de Debian:\n",
    "\n",
    "- adduser <userXX>\n",
    "\n",
    "Crearemos el usuario con su nombre. Yo lo hice uno a uno para asegurar evitar errores.\n",
    "Saldrá una serie de preguntas a rellenar. Se puede omitir mediante enter en cada una."
   ]
  },
  {
   "cell_type": "markdown",
   "id": "7b1932cb",
   "metadata": {},
   "source": [
    "<h3><b> Contraseña expira en un año"
   ]
  },
  {
   "cell_type": "markdown",
   "id": "c519dcaf",
   "metadata": {},
   "source": [
    "sudo chage -M 365 userXX"
   ]
  },
  {
   "cell_type": "markdown",
   "id": "28a08aed",
   "metadata": {},
   "source": [
    "<b><u> Con esto ya estaría hecho este punto"
   ]
  }
 ],
 "metadata": {
  "language_info": {
   "name": "python"
  }
 },
 "nbformat": 4,
 "nbformat_minor": 5
}
